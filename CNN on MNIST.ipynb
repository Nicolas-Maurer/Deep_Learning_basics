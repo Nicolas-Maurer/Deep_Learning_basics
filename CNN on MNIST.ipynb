{
 "cells": [
  {
   "cell_type": "markdown",
   "id": "7bf1f7f7",
   "metadata": {},
   "source": [
    "# MNIST with a convolutionnal neural network"
   ]
  },
  {
   "cell_type": "code",
   "execution_count": 1,
   "id": "0a9ff4f4",
   "metadata": {},
   "outputs": [],
   "source": [
    "import numpy as np\n",
    "from keras.models import Sequential \n",
    "from keras.layers import Conv2D, MaxPooling2D, Dense, Flatten\n",
    "from keras.utils import np_utils\n",
    "from keras.datasets import mnist"
   ]
  },
  {
   "cell_type": "code",
   "execution_count": 2,
   "id": "7f0183ce",
   "metadata": {},
   "outputs": [],
   "source": [
    "(X_train, y_train), (X_test, y_test) = mnist.load_data()"
   ]
  },
  {
   "cell_type": "code",
   "execution_count": 3,
   "id": "6bc2525c",
   "metadata": {},
   "outputs": [
    {
     "data": {
      "text/plain": [
       "(60000, 28, 28)"
      ]
     },
     "execution_count": 3,
     "metadata": {},
     "output_type": "execute_result"
    }
   ],
   "source": [
    "X_train.shape"
   ]
  },
  {
   "cell_type": "code",
   "execution_count": 4,
   "id": "bd96e9f6",
   "metadata": {},
   "outputs": [],
   "source": [
    "# Preparation for conv2D, resizing (virtual)\n",
    "X_train = X_train.reshape(X_train.shape + (1,))\n",
    "X_test = X_test.reshape(X_test.shape + (1,))"
   ]
  },
  {
   "cell_type": "code",
   "execution_count": 5,
   "id": "5f00604a",
   "metadata": {},
   "outputs": [],
   "source": [
    "# Reduction of the data type to float 32 bits \n",
    "X_train = X_train.astype('float32')\n",
    "X_test = X_test.astype('float32')\n",
    "\n",
    "# Normalisation in [0,1]\n",
    "X_train = X_train/255.\n",
    "X_test = X_test/255."
   ]
  },
  {
   "cell_type": "code",
   "execution_count": 6,
   "id": "44e83e4f",
   "metadata": {},
   "outputs": [],
   "source": [
    "# The labels must be translated into One hot encoding with 10 classes\n",
    "y_train_c = np_utils.to_categorical(y_train, 10)\n",
    "y_test_c = np_utils.to_categorical(y_test, 10)"
   ]
  },
  {
   "cell_type": "markdown",
   "id": "cc444771",
   "metadata": {},
   "source": [
    "# Building a convolutional model"
   ]
  },
  {
   "cell_type": "code",
   "execution_count": 7,
   "id": "ab99b6d8",
   "metadata": {},
   "outputs": [],
   "source": [
    "model = Sequential()\n",
    "\n",
    "model.add(Conv2D(32,\n",
    "                 kernel_size=(3, 3),\n",
    "                 activation='relu',\n",
    "                 input_shape=(28, 28, 1),\n",
    "                 data_format=\"channels_last\" #Color in the last position\n",
    "                 ))\n",
    "# It's a tensor 3x3x32"
   ]
  },
  {
   "cell_type": "code",
   "execution_count": 8,
   "id": "dd2ad483",
   "metadata": {},
   "outputs": [
    {
     "data": {
      "text/plain": [
       "TensorShape([None, 26, 26, 32])"
      ]
     },
     "execution_count": 8,
     "metadata": {},
     "output_type": "execute_result"
    }
   ],
   "source": [
    "model.output.shape"
   ]
  },
  {
   "cell_type": "markdown",
   "id": "7c41c6d5",
   "metadata": {},
   "source": [
    "At first we had a 28x28, but without padding we lose the edges."
   ]
  },
  {
   "cell_type": "code",
   "execution_count": 9,
   "id": "58712e75",
   "metadata": {},
   "outputs": [
    {
     "data": {
      "text/plain": [
       "TensorShape([None, 24, 24, 32])"
      ]
     },
     "execution_count": 9,
     "metadata": {},
     "output_type": "execute_result"
    }
   ],
   "source": [
    "# Second layer\n",
    "model.add(Conv2D(32, (3,3), activation=\"relu\"))\n",
    "model.output.shape"
   ]
  },
  {
   "cell_type": "code",
   "execution_count": 10,
   "id": "e538b2de",
   "metadata": {},
   "outputs": [
    {
     "data": {
      "text/plain": [
       "TensorShape([None, 12, 12, 32])"
      ]
     },
     "execution_count": 10,
     "metadata": {},
     "output_type": "execute_result"
    }
   ],
   "source": [
    "model.add(MaxPooling2D(pool_size=(2,2)))\n",
    "model.output.shape"
   ]
  },
  {
   "cell_type": "code",
   "execution_count": 11,
   "id": "97c7282a",
   "metadata": {
    "scrolled": true
   },
   "outputs": [
    {
     "data": {
      "text/plain": [
       "TensorShape([None, 4608])"
      ]
     },
     "execution_count": 11,
     "metadata": {},
     "output_type": "execute_result"
    }
   ],
   "source": [
    "# We add a simple network for classification \n",
    "model.add(Flatten())\n",
    "model.output.shape"
   ]
  },
  {
   "cell_type": "code",
   "execution_count": 12,
   "id": "00844b3f",
   "metadata": {},
   "outputs": [
    {
     "data": {
      "text/plain": [
       "TensorShape([None, 128])"
      ]
     },
     "execution_count": 12,
     "metadata": {},
     "output_type": "execute_result"
    }
   ],
   "source": [
    "# Dense classification layer\n",
    "model.add(Dense(128, activation=\"relu\"))\n",
    "model.output.shape"
   ]
  },
  {
   "cell_type": "code",
   "execution_count": 13,
   "id": "c7eddfbc",
   "metadata": {},
   "outputs": [
    {
     "data": {
      "text/plain": [
       "TensorShape([None, 10])"
      ]
     },
     "execution_count": 13,
     "metadata": {},
     "output_type": "execute_result"
    }
   ],
   "source": [
    "# Output layer\n",
    "model.add(Dense(10, activation=\"softmax\"))\n",
    "model.output.shape"
   ]
  },
  {
   "cell_type": "code",
   "execution_count": 14,
   "id": "3bae5594",
   "metadata": {},
   "outputs": [
    {
     "name": "stdout",
     "output_type": "stream",
     "text": [
      "Model: \"sequential\"\n",
      "_________________________________________________________________\n",
      "Layer (type)                 Output Shape              Param #   \n",
      "=================================================================\n",
      "conv2d (Conv2D)              (None, 26, 26, 32)        320       \n",
      "_________________________________________________________________\n",
      "conv2d_1 (Conv2D)            (None, 24, 24, 32)        9248      \n",
      "_________________________________________________________________\n",
      "max_pooling2d (MaxPooling2D) (None, 12, 12, 32)        0         \n",
      "_________________________________________________________________\n",
      "flatten (Flatten)            (None, 4608)              0         \n",
      "_________________________________________________________________\n",
      "dense (Dense)                (None, 128)               589952    \n",
      "_________________________________________________________________\n",
      "dense_1 (Dense)              (None, 10)                1290      \n",
      "=================================================================\n",
      "Total params: 600,810\n",
      "Trainable params: 600,810\n",
      "Non-trainable params: 0\n",
      "_________________________________________________________________\n"
     ]
    }
   ],
   "source": [
    "model.summary()"
   ]
  },
  {
   "cell_type": "markdown",
   "id": "2e8e5679",
   "metadata": {},
   "source": [
    "Conv2D first layer : 32 filters of size 3x3 + 1 biais = 10 parameters each, so 320 in total\n",
    "\n",
    "Conv2d second layer : 3x3 that connect to 32 images from precedent layer + 1 biais  \n",
    "So, 3x3 x 32 + 1 = 289 parameters for each filter  \n",
    "So 9248 in total  "
   ]
  },
  {
   "cell_type": "code",
   "execution_count": 18,
   "id": "7318608d",
   "metadata": {},
   "outputs": [],
   "source": [
    "model.compile(loss=\"categorical_crossentropy\",\n",
    "              optimizer=\"adam\",\n",
    "              metrics=\"accuracy\")"
   ]
  },
  {
   "cell_type": "code",
   "execution_count": 19,
   "id": "f45e0977",
   "metadata": {},
   "outputs": [
    {
     "name": "stdout",
     "output_type": "stream",
     "text": [
      "Epoch 1/3\n",
      "375/375 [==============================] - 50s 130ms/step - loss: 0.2082 - accuracy: 0.9370 - val_loss: 0.0710 - val_accuracy: 0.9802\n",
      "Epoch 2/3\n",
      "375/375 [==============================] - 50s 134ms/step - loss: 0.0543 - accuracy: 0.9836 - val_loss: 0.0494 - val_accuracy: 0.9850\n",
      "Epoch 3/3\n",
      "375/375 [==============================] - 54s 144ms/step - loss: 0.0329 - accuracy: 0.9894 - val_loss: 0.0445 - val_accuracy: 0.9868\n"
     ]
    },
    {
     "data": {
      "text/plain": [
       "<keras.callbacks.History at 0x1ac568434f0>"
      ]
     },
     "execution_count": 19,
     "metadata": {},
     "output_type": "execute_result"
    }
   ],
   "source": [
    "model.fit(X_train, y_train_c,\n",
    "          batch_size=128,\n",
    "          validation_split=0.2, #\n",
    "          epochs=3,\n",
    "          verbose=1)"
   ]
  },
  {
   "cell_type": "markdown",
   "id": "65f4641f",
   "metadata": {},
   "source": [
    "## Monitoring / Callbacks"
   ]
  },
  {
   "cell_type": "code",
   "execution_count": 22,
   "id": "9bd9b2a6",
   "metadata": {},
   "outputs": [],
   "source": [
    "from keras.callbacks import Callback"
   ]
  },
  {
   "cell_type": "code",
   "execution_count": 24,
   "id": "d1b4a933",
   "metadata": {},
   "outputs": [],
   "source": [
    "# a class (function) that will be called at the end of each epoch\n",
    "class Monitor(Callback):\n",
    "    \n",
    "    def on_epoch_end(self, epoch, logs):\n",
    "        print(f\"End of the epoch {epoch}\")\n",
    "        print(f\"My infos {logs}\")\n",
    "        print(\"------------------\")"
   ]
  },
  {
   "cell_type": "code",
   "execution_count": 26,
   "id": "0332e661",
   "metadata": {},
   "outputs": [
    {
     "name": "stdout",
     "output_type": "stream",
     "text": [
      "Epoch 1/5\n",
      "48/48 - 44s - loss: 0.0163 - accuracy: 0.9955 - val_loss: 0.0406 - val_accuracy: 0.9889\n",
      "End of the epoch 0\n",
      "My infos {'loss': 0.01633494161069393, 'accuracy': 0.9954583048820496, 'val_loss': 0.04059656709432602, 'val_accuracy': 0.9889166951179504}\n",
      "------------------\n",
      "Epoch 2/5\n",
      "48/48 - 48s - loss: 0.0113 - accuracy: 0.9970 - val_loss: 0.0395 - val_accuracy: 0.9888\n",
      "End of the epoch 1\n",
      "My infos {'loss': 0.011299438774585724, 'accuracy': 0.9970208406448364, 'val_loss': 0.0394766628742218, 'val_accuracy': 0.9888333082199097}\n",
      "------------------\n",
      "Epoch 3/5\n",
      "48/48 - 42s - loss: 0.0093 - accuracy: 0.9977 - val_loss: 0.0404 - val_accuracy: 0.9891\n",
      "End of the epoch 2\n",
      "My infos {'loss': 0.009255414828658104, 'accuracy': 0.9976666569709778, 'val_loss': 0.0403599813580513, 'val_accuracy': 0.9890833497047424}\n",
      "------------------\n",
      "Epoch 4/5\n",
      "48/48 - 45s - loss: 0.0078 - accuracy: 0.9982 - val_loss: 0.0400 - val_accuracy: 0.9893\n",
      "End of the epoch 3\n",
      "My infos {'loss': 0.007825302891433239, 'accuracy': 0.9981874823570251, 'val_loss': 0.04002670571208, 'val_accuracy': 0.9893333315849304}\n",
      "------------------\n",
      "Epoch 5/5\n",
      "48/48 - 45s - loss: 0.0069 - accuracy: 0.9986 - val_loss: 0.0414 - val_accuracy: 0.9895\n",
      "End of the epoch 4\n",
      "My infos {'loss': 0.006895042955875397, 'accuracy': 0.9986041784286499, 'val_loss': 0.04137013107538223, 'val_accuracy': 0.9894999861717224}\n",
      "------------------\n"
     ]
    }
   ],
   "source": [
    "evolution = model.fit(X_train, y_train_c,\n",
    "                      batch_size=1000,\n",
    "                      validation_split=0.2,\n",
    "                      epochs=5,\n",
    "                      verbose=2,\n",
    "                      callbacks=[Monitor()])"
   ]
  },
  {
   "cell_type": "code",
   "execution_count": 27,
   "id": "5330b617",
   "metadata": {},
   "outputs": [],
   "source": [
    "import matplotlib.pyplot as plt"
   ]
  },
  {
   "cell_type": "code",
   "execution_count": 33,
   "id": "457e561f",
   "metadata": {},
   "outputs": [
    {
     "data": {
      "text/plain": [
       "<matplotlib.legend.Legend at 0x1ac5a7c28b0>"
      ]
     },
     "execution_count": 33,
     "metadata": {},
     "output_type": "execute_result"
    },
    {
     "data": {
      "image/png": "[encoded data removed]",
      "text/plain": [
       "<Figure size 432x288 with 1 Axes>"
      ]
     },
     "metadata": {
      "needs_background": "light"
     },
     "output_type": "display_data"
    }
   ],
   "source": [
    "plt.plot(evolution.history[\"accuracy\"], label=\"Train\")\n",
    "plt.plot(evolution.history[\"val_accuracy\"], label=\"Validation\")\n",
    "plt.title(\"Model accuracy\")\n",
    "plt.xlabel(\"Epoch\")\n",
    "plt.ylabel(\"Accuracy\")\n",
    "plt.legend()"
   ]
  },
  {
   "cell_type": "code",
   "execution_count": 34,
   "id": "e54bca24",
   "metadata": {},
   "outputs": [
    {
     "data": {
      "text/plain": [
       "<matplotlib.legend.Legend at 0x1ac5a8abbe0>"
      ]
     },
     "execution_count": 34,
     "metadata": {},
     "output_type": "execute_result"
    },
    {
     "data": {
      "image/png": "[encoded data removed]",
      "text/plain": [
       "<Figure size 432x288 with 1 Axes>"
      ]
     },
     "metadata": {
      "needs_background": "light"
     },
     "output_type": "display_data"
    }
   ],
   "source": [
    "plt.plot(evolution.history[\"loss\"], label=\"Train\")\n",
    "plt.plot(evolution.history[\"val_loss\"], label=\"Validation\")\n",
    "plt.title(\"Model loss\")\n",
    "plt.xlabel(\"Epoch\")\n",
    "plt.ylabel(\"Loss\")\n",
    "plt.legend()"
   ]
  },
  {
   "cell_type": "markdown",
   "id": "0b225d47",
   "metadata": {},
   "source": [
    "## Early stopping "
   ]
  },
  {
   "cell_type": "code",
   "execution_count": 35,
   "id": "5956d0b9",
   "metadata": {},
   "outputs": [],
   "source": [
    "from keras.callbacks import EarlyStopping"
   ]
  },
  {
   "cell_type": "code",
   "execution_count": 36,
   "id": "2b2c46ac",
   "metadata": {},
   "outputs": [
    {
     "name": "stdout",
     "output_type": "stream",
     "text": [
      "Epoch 1/5\n",
      "48/48 [==============================] - 39s 823ms/step - loss: 0.0058 - accuracy: 0.9989 - val_loss: 0.0414 - val_accuracy: 0.9893\n",
      "End of the epoch 0\n",
      "My infos {'loss': 0.005829564295709133, 'accuracy': 0.9988958239555359, 'val_loss': 0.04144714027643204, 'val_accuracy': 0.9892500042915344}\n",
      "------------------\n",
      "Epoch 2/5\n",
      "48/48 [==============================] - 43s 896ms/step - loss: 0.0051 - accuracy: 0.9990 - val_loss: 0.0418 - val_accuracy: 0.9887\n",
      "End of the epoch 1\n",
      "My infos {'loss': 0.005111748818308115, 'accuracy': 0.9990416765213013, 'val_loss': 0.041813045740127563, 'val_accuracy': 0.9887499809265137}\n",
      "------------------\n",
      "Epoch 3/5\n",
      "48/48 [==============================] - 42s 879ms/step - loss: 0.0045 - accuracy: 0.9992 - val_loss: 0.0425 - val_accuracy: 0.9891\n",
      "End of the epoch 2\n",
      "My infos {'loss': 0.004481262061744928, 'accuracy': 0.9992499947547913, 'val_loss': 0.04249296337366104, 'val_accuracy': 0.9890833497047424}\n",
      "------------------\n"
     ]
    }
   ],
   "source": [
    "evolution = model.fit(X_train, y_train_c,\n",
    "                      batch_size=1000,\n",
    "                      validation_split=0.2,\n",
    "                      epochs=5,\n",
    "                      verbose=1,\n",
    "                      callbacks=[Monitor(),\n",
    "                                 EarlyStopping(monitor=\"val_loss\", patience=2)])"
   ]
  },
  {
   "cell_type": "code",
   "execution_count": 39,
   "id": "2a745509",
   "metadata": {},
   "outputs": [],
   "source": [
    "save_dir = \"models/\"\n",
    "full_filename = save_dir + \"best_model.h5\"\n",
    "bestmodel_callback = tf.keras.callbacks.ModelCheckpoint(filepath=full_filename,\n",
    "                                                        verbose=1,\n",
    "                                                        monitor=\"accuracy\",\n",
    "                                                        save_best_only=True)"
   ]
  },
  {
   "cell_type": "code",
   "execution_count": 40,
   "id": "d8305e89",
   "metadata": {},
   "outputs": [],
   "source": [
    "model_name = \"models/model.{epoch:04d}.h5\"\n",
    "savemodel_callback = tf.keras.callbacks.ModelCheckpoint(filepath=model_name,\n",
    "                                                        verbose=0)"
   ]
  },
  {
   "cell_type": "code",
   "execution_count": 42,
   "id": "680a264e",
   "metadata": {},
   "outputs": [
    {
     "name": "stdout",
     "output_type": "stream",
     "text": [
      "Epoch 1/5\n",
      "48/48 [==============================] - 39s 816ms/step - loss: 0.0039 - accuracy: 0.9993 - val_loss: 0.0441 - val_accuracy: 0.9885\n",
      "End of the epoch 0\n",
      "My infos {'loss': 0.003937074448913336, 'accuracy': 0.9993333220481873, 'val_loss': 0.04406270012259483, 'val_accuracy': 0.9884999990463257}\n",
      "------------------\n",
      "\n",
      "Epoch 00001: accuracy improved from -inf to 0.99933, saving model to models\\best_model.h5\n",
      "Epoch 2/5\n",
      "48/48 [==============================] - 46s 956ms/step - loss: 0.0034 - accuracy: 0.9995 - val_loss: 0.0447 - val_accuracy: 0.9894\n",
      "End of the epoch 1\n",
      "My infos {'loss': 0.0033736086916178465, 'accuracy': 0.9994583129882812, 'val_loss': 0.04465761408209801, 'val_accuracy': 0.9894166588783264}\n",
      "------------------\n",
      "\n",
      "Epoch 00002: accuracy improved from 0.99933 to 0.99946, saving model to models\\best_model.h5\n",
      "Epoch 3/5\n",
      "48/48 [==============================] - 47s 981ms/step - loss: 0.0030 - accuracy: 0.9995 - val_loss: 0.0450 - val_accuracy: 0.9890\n",
      "End of the epoch 2\n",
      "My infos {'loss': 0.0030057867988944054, 'accuracy': 0.9995416402816772, 'val_loss': 0.045032527297735214, 'val_accuracy': 0.9890000224113464}\n",
      "------------------\n",
      "\n",
      "Epoch 00003: accuracy improved from 0.99946 to 0.99954, saving model to models\\best_model.h5\n"
     ]
    }
   ],
   "source": [
    "evolution = model.fit(X_train, y_train_c,\n",
    "                      batch_size=1000,\n",
    "                      validation_split=0.2,\n",
    "                      epochs=5,\n",
    "                      verbose=1,\n",
    "                      callbacks=[Monitor(),\n",
    "                                 EarlyStopping(monitor=\"val_loss\", patience=2),\n",
    "                                 bestmodel_callback,\n",
    "                                 savemodel_callback])"
   ]
  },
  {
   "cell_type": "code",
   "execution_count": null,
   "id": "ba51f446",
   "metadata": {},
   "outputs": [],
   "source": []
  }
 ],
 "metadata": {
  "kernelspec": {
   "display_name": "Python 3",
   "language": "python",
   "name": "python3"
  },
  "language_info": {
   "codemirror_mode": {
    "name": "ipython",
    "version": 3
   },
   "file_extension": ".py",
   "mimetype": "text/x-python",
   "name": "python",
   "nbconvert_exporter": "python",
   "pygments_lexer": "ipython3",
   "version": "3.9.5"
  }
 },
 "nbformat": 4,
 "nbformat_minor": 5
}
