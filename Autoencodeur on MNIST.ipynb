{
 "cells": [
  {
   "cell_type": "markdown",
   "id": "fe59b69b",
   "metadata": {},
   "source": [
    "# Autoencoder\n",
    "Applications to image denoising"
   ]
  },
  {
   "cell_type": "code",
   "execution_count": 1,
   "id": "092575c5",
   "metadata": {},
   "outputs": [],
   "source": [
    "from keras.datasets import mnist\n",
    "import numpy as np \n",
    "import matplotlib.pyplot as plt\n",
    "from keras.layers import Input, Dense\n",
    "from keras.models import Model"
   ]
  },
  {
   "cell_type": "code",
   "execution_count": 2,
   "id": "416f1465",
   "metadata": {},
   "outputs": [],
   "source": [
    "(X_train, _), (X_test, _) = mnist.load_data()"
   ]
  },
  {
   "cell_type": "code",
   "execution_count": 3,
   "id": "5bd01057",
   "metadata": {},
   "outputs": [
    {
     "data": {
      "text/plain": [
       "(60000, 28, 28)"
      ]
     },
     "execution_count": 3,
     "metadata": {},
     "output_type": "execute_result"
    }
   ],
   "source": [
    "X_train.shape"
   ]
  },
  {
   "cell_type": "code",
   "execution_count": 4,
   "id": "d11a39e9",
   "metadata": {},
   "outputs": [
    {
     "data": {
      "text/plain": [
       "(10000, 28, 28)"
      ]
     },
     "execution_count": 4,
     "metadata": {},
     "output_type": "execute_result"
    }
   ],
   "source": [
    "X_test.shape"
   ]
  },
  {
   "cell_type": "code",
   "execution_count": 5,
   "id": "8ac79050",
   "metadata": {},
   "outputs": [
    {
     "data": {
      "text/plain": [
       "<matplotlib.image.AxesImage at 0x1efe0504dc0>"
      ]
     },
     "execution_count": 5,
     "metadata": {},
     "output_type": "execute_result"
    },
    {
     "data": {
      "image/png": "[encoded data removed]",
      "text/plain": [
       "<Figure size 288x288 with 1 Axes>"
      ]
     },
     "metadata": {
      "needs_background": "light"
     },
     "output_type": "display_data"
    }
   ],
   "source": [
    "plt.matshow(X_train[0], cmap='winter')"
   ]
  },
  {
   "cell_type": "code",
   "execution_count": 6,
   "id": "350c7751",
   "metadata": {},
   "outputs": [],
   "source": [
    "# the size of the middle layer, the latent representation of 32 neurons\n",
    "encoding_dim = 32 "
   ]
  },
  {
   "cell_type": "code",
   "execution_count": 7,
   "id": "305fe811",
   "metadata": {},
   "outputs": [],
   "source": [
    "input_img = Input(shape=(784, )) # 784 = 28*28\n",
    "\n",
    "# The latent representation layer\n",
    "encoded = Dense(encoding_dim, activation='relu')(input_img)\n",
    "\n",
    "# decoder part = the output layer\n",
    "# same size as the input\n",
    "decoded = Dense(784, activation='sigmoid')(encoded)\n",
    "\n",
    "# complete model composed of three layers\n",
    "autoenc = Model(input_img, decoded) # entrée et sortie du model\n",
    "\n",
    "# sub-model of two first layers\n",
    "encodeur = Model(input_img, encoded)\n",
    "\n",
    "# production of encoded data that will be entered in the decoder\n",
    "encoded_input = Input(shape=(encoding_dim, ))\n",
    "\n",
    "# the last layer of three in autoenc\n",
    "decoded_layer = autoenc.layers[-1]\n",
    "\n",
    "# Construction of the decoder model which includes two last layers\n",
    "decodeur = Model(encoded_input, decoded_layer(encoded_input))"
   ]
  },
  {
   "cell_type": "code",
   "execution_count": 8,
   "id": "023d8b13",
   "metadata": {},
   "outputs": [],
   "source": [
    "autoenc.compile(optimizer='adam', loss='binary_crossentropy')"
   ]
  },
  {
   "cell_type": "code",
   "execution_count": 9,
   "id": "190d9bee",
   "metadata": {},
   "outputs": [],
   "source": [
    "# Preparation of the data\n",
    "# normalization in [0,1]\n",
    "# less precision (32 bits) faster calculation\n",
    "X_train_scaled = X_train.astype('float32') / 255\n",
    "X_test_scaled = X_test.astype('float32') / 255"
   ]
  },
  {
   "cell_type": "code",
   "execution_count": 10,
   "id": "b67577f8",
   "metadata": {},
   "outputs": [],
   "source": [
    "# Flatten\n",
    "X_train_flat = X_train_scaled.reshape(len(X_train), 784)\n",
    "X_test_flat = X_test_scaled.reshape(len(X_test), 784)"
   ]
  },
  {
   "cell_type": "code",
   "execution_count": 11,
   "id": "50d609e8",
   "metadata": {},
   "outputs": [
    {
     "data": {
      "text/plain": [
       "(60000, 784)"
      ]
     },
     "execution_count": 11,
     "metadata": {},
     "output_type": "execute_result"
    }
   ],
   "source": [
    "X_train_flat.shape"
   ]
  },
  {
   "cell_type": "code",
   "execution_count": 12,
   "id": "47e5dc1e",
   "metadata": {},
   "outputs": [
    {
     "data": {
      "text/plain": [
       "(10000, 784)"
      ]
     },
     "execution_count": 12,
     "metadata": {},
     "output_type": "execute_result"
    }
   ],
   "source": [
    "X_test_flat.shape"
   ]
  },
  {
   "cell_type": "code",
   "execution_count": 13,
   "id": "a56ce8f9",
   "metadata": {},
   "outputs": [
    {
     "name": "stdout",
     "output_type": "stream",
     "text": [
      "Epoch 1/10\n",
      "600/600 [==============================] - 5s 6ms/step - loss: 0.2158A\n",
      "Epoch 2/10\n",
      "600/600 [==============================] - 4s 6ms/step - loss: 0.1337\n",
      "Epoch 3/10\n",
      "600/600 [==============================] - 4s 6ms/step - loss: 0.1126\n",
      "Epoch 4/10\n",
      "600/600 [==============================] - 3s 5ms/step - loss: 0.1027\n",
      "Epoch 5/10\n",
      "600/600 [==============================] - 3s 6ms/step - loss: 0.0979\n",
      "Epoch 6/10\n",
      "600/600 [==============================] - 3s 6ms/step - loss: 0.0958\n",
      "Epoch 7/10\n",
      "600/600 [==============================] - 3s 5ms/step - loss: 0.0949\n",
      "Epoch 8/10\n",
      "600/600 [==============================] - 3s 6ms/step - loss: 0.0944\n",
      "Epoch 9/10\n",
      "600/600 [==============================] - 3s 6ms/step - loss: 0.0941\n",
      "Epoch 10/10\n",
      "600/600 [==============================] - 3s 5ms/step - loss: 0.0939\n"
     ]
    },
    {
     "data": {
      "text/plain": [
       "<keras.callbacks.History at 0x1efe24aa4c0>"
      ]
     },
     "execution_count": 13,
     "metadata": {},
     "output_type": "execute_result"
    }
   ],
   "source": [
    "autoenc.fit(X_train_flat,\n",
    "            X_train_flat, # \"y_train\" = X_train for autoencodeur\n",
    "            # principle of autoencoder : \n",
    "            # Output we want to represent the image similar to the original\n",
    "            epochs=10,\n",
    "            batch_size=100,\n",
    "            shuffle=True\n",
    "           )"
   ]
  },
  {
   "cell_type": "code",
   "execution_count": 14,
   "id": "3d4738c7",
   "metadata": {},
   "outputs": [],
   "source": [
    "images_coded = encodeur.predict(X_test_flat)\n",
    "\n",
    "images_decoded = decodeur.predict(images_coded)"
   ]
  },
  {
   "cell_type": "code",
   "execution_count": 15,
   "id": "bc5d4425",
   "metadata": {},
   "outputs": [
    {
     "data": {
      "text/plain": [
       "(10000, 32)"
      ]
     },
     "execution_count": 15,
     "metadata": {},
     "output_type": "execute_result"
    }
   ],
   "source": [
    "images_coded.shape"
   ]
  },
  {
   "cell_type": "code",
   "execution_count": 16,
   "id": "c74f1772",
   "metadata": {},
   "outputs": [
    {
     "data": {
      "text/plain": [
       "<matplotlib.image.AxesImage at 0x1efe55eb190>"
      ]
     },
     "execution_count": 16,
     "metadata": {},
     "output_type": "execute_result"
    },
    {
     "data": {
      "image/png": "[encoded data removed]",
      "text/plain": [
       "<Figure size 288x288 with 1 Axes>"
      ]
     },
     "metadata": {
      "needs_background": "light"
     },
     "output_type": "display_data"
    }
   ],
   "source": [
    "plt.matshow(X_test[1], cmap=\"winter\")"
   ]
  },
  {
   "cell_type": "code",
   "execution_count": 17,
   "id": "8019f496",
   "metadata": {},
   "outputs": [
    {
     "data": {
      "text/plain": [
       "<matplotlib.image.AxesImage at 0x1efe574f9d0>"
      ]
     },
     "execution_count": 17,
     "metadata": {},
     "output_type": "execute_result"
    },
    {
     "data": {
      "image/png": "[encoded data removed]",
      "text/plain": [
       "<Figure size 576x288 with 1 Axes>"
      ]
     },
     "metadata": {
      "needs_background": "light"
     },
     "output_type": "display_data"
    }
   ],
   "source": [
    "plt.matshow(images_coded[1].reshape(4,8), cmap=\"winter\")"
   ]
  },
  {
   "cell_type": "code",
   "execution_count": 18,
   "id": "f247f78f",
   "metadata": {},
   "outputs": [
    {
     "data": {
      "text/plain": [
       "<matplotlib.image.AxesImage at 0x1efe7997af0>"
      ]
     },
     "execution_count": 18,
     "metadata": {},
     "output_type": "execute_result"
    },
    {
     "data": {
      "image/png": "[encoded data removed]",
      "text/plain": [
       "<Figure size 288x288 with 1 Axes>"
      ]
     },
     "metadata": {
      "needs_background": "light"
     },
     "output_type": "display_data"
    }
   ],
   "source": [
    "plt.matshow(images_decoded[1].reshape(28,28), cmap=\"winter\")"
   ]
  },
  {
   "cell_type": "code",
   "execution_count": 19,
   "id": "4c5f78d2",
   "metadata": {},
   "outputs": [
    {
     "data": {
      "text/plain": [
       "0.04081632653061224"
      ]
     },
     "execution_count": 19,
     "metadata": {},
     "output_type": "execute_result"
    }
   ],
   "source": [
    "# compression rate\n",
    "32 / 784"
   ]
  },
  {
   "cell_type": "code",
   "execution_count": 20,
   "id": "1b10a321",
   "metadata": {},
   "outputs": [
    {
     "data": {
      "image/png": "[encoded data removed]",
      "text/plain": [
       "<Figure size 1440x288 with 14 Axes>"
      ]
     },
     "metadata": {
      "needs_background": "light"
     },
     "output_type": "display_data"
    }
   ],
   "source": [
    "n = 7\n",
    "plt.figure(figsize=(20,4))\n",
    "for i in range(n):\n",
    "    ax = plt.subplot(2, n, i+1)\n",
    "    ax.imshow(X_test[i].reshape(28,28), cmap='gray_r')\n",
    "    \n",
    "    ax = plt.subplot(2, n, i+1+n)\n",
    "    ax.imshow(images_decoded[i].reshape(28,28), cmap=\"gray_r\")\n",
    "plt.show()"
   ]
  },
  {
   "cell_type": "markdown",
   "id": "0609b3d1",
   "metadata": {},
   "source": [
    "# Application to denoising"
   ]
  },
  {
   "cell_type": "code",
   "execution_count": 21,
   "id": "c48bff1e",
   "metadata": {},
   "outputs": [],
   "source": [
    "# Creating noisy images\n",
    "noise_factor = 0.2\n",
    "\n",
    "X_train_noisy = X_train_flat + noise_factor*np.random.normal(loc=0.0,\n",
    "                                                             scale=1.0,\n",
    "                                                             size=X_train_flat.shape)\n",
    "\n",
    "X_test_noisy = X_test_flat + noise_factor*np.random.normal(loc=0.0,\n",
    "                                                             scale=1.0,\n",
    "                                                             size=X_test_flat.shape)\n",
    "\n",
    "# Recadrage dans [0,1]\n",
    "X_train_noisy = np.clip(X_train_noisy, 0.0, 1.0)\n",
    "X_test_noisy = np.clip(X_test_noisy, 0.0, 1.0)"
   ]
  },
  {
   "cell_type": "code",
   "execution_count": 22,
   "id": "2089d426",
   "metadata": {},
   "outputs": [
    {
     "data": {
      "image/png": "[encoded data removed]",
      "text/plain": [
       "<Figure size 1440x288 with 7 Axes>"
      ]
     },
     "metadata": {
      "needs_background": "light"
     },
     "output_type": "display_data"
    }
   ],
   "source": [
    "n = 7\n",
    "plt.figure(figsize=(20,4))\n",
    "for i in range(n):\n",
    "    ax = plt.subplot(2, n, i+1)\n",
    "    ax.imshow(X_test_noisy[i].reshape(28,28), cmap='gray_r')\n",
    "plt.show()"
   ]
  },
  {
   "cell_type": "code",
   "execution_count": 23,
   "id": "9a25416c",
   "metadata": {},
   "outputs": [],
   "source": [
    "# Denoising with an autoencoder\n",
    "images_coded_ns = encodeur.predict(X_test_noisy)\n",
    "\n",
    "images_decoded_ns = decodeur.predict(images_coded_ns)\n"
   ]
  },
  {
   "cell_type": "code",
   "execution_count": 24,
   "id": "c4e95459",
   "metadata": {},
   "outputs": [
    {
     "data": {
      "image/png": "[encoded data removed]",
      "text/plain": [
       "<Figure size 1440x288 with 14 Axes>"
      ]
     },
     "metadata": {
      "needs_background": "light"
     },
     "output_type": "display_data"
    }
   ],
   "source": [
    "n = 7\n",
    "plt.figure(figsize=(20,4))\n",
    "for i in range(n):\n",
    "    ax = plt.subplot(2, n, i+1)\n",
    "    ax.imshow(X_test_noisy[i].reshape(28,28), cmap='gray_r')\n",
    "    \n",
    "    ax = plt.subplot(2, n, i+1+n)\n",
    "    ax.imshow(images_decoded_ns[i].reshape(28,28), cmap=\"gray_r\")\n",
    "plt.show()"
   ]
  }
 ],
 "metadata": {
  "kernelspec": {
   "display_name": "Python 3",
   "language": "python",
   "name": "python3"
  },
  "language_info": {
   "codemirror_mode": {
    "name": "ipython",
    "version": 3
   },
   "file_extension": ".py",
   "mimetype": "text/x-python",
   "name": "python",
   "nbconvert_exporter": "python",
   "pygments_lexer": "ipython3",
   "version": "3.9.5"
  }
 },
 "nbformat": 4,
 "nbformat_minor": 5
}
